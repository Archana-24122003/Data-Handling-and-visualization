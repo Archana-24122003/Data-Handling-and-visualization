{
  "nbformat": 4,
  "nbformat_minor": 0,
  "metadata": {
    "colab": {
      "provenance": []
    },
    "kernelspec": {
      "name": "python3",
      "display_name": "Python 3"
    },
    "language_info": {
      "name": "python"
    }
  },
  "cells": [
    {
      "cell_type": "code",
      "source": [
        "import numpy as np\n",
        "import matplotlib.pyplot as plt\n",
        "import nltk\n",
        "from nltk.corpus import stopwords\n",
        "nltk.download(\"stopwords\")\n",
        "nltk.download('punkt')"
      ],
      "metadata": {
        "colab": {
          "base_uri": "https://localhost:8080/"
        },
        "id": "NV1Ku5z6tcPB",
        "outputId": "ff43693c-0331-4c02-9681-b0b03cf0ca43"
      },
      "execution_count": 24,
      "outputs": [
        {
          "output_type": "stream",
          "name": "stderr",
          "text": [
            "[nltk_data] Downloading package stopwords to /root/nltk_data...\n",
            "[nltk_data]   Package stopwords is already up-to-date!\n",
            "[nltk_data] Downloading package punkt to /root/nltk_data...\n",
            "[nltk_data]   Package punkt is already up-to-date!\n"
          ]
        },
        {
          "output_type": "execute_result",
          "data": {
            "text/plain": [
              "True"
            ]
          },
          "metadata": {},
          "execution_count": 24
        }
      ]
    },
    {
      "cell_type": "code",
      "source": [
        "def remove_stop_words(string):\n",
        "  stop_words=set(stopwords.words('english'))\n",
        "  words=string.split()\n",
        "  filtered_words=[word for word in words if word.lower() not in stop_words]\n",
        "  new_string=' '.join(filtered_words)\n",
        "  return new_string"
      ],
      "metadata": {
        "id": "mlhwdjQquHI3"
      },
      "execution_count": 25,
      "outputs": []
    },
    {
      "cell_type": "code",
      "source": [
        "input_string=\"There is a pen on the table\"\n",
        "result=remove_stop_words(input_string)\n",
        "print(\"original string:\",input_string)\n",
        "print(\"modified string:\",result)\n",
        "word_tokens = nltk.word_tokenize(input_string)\n",
        "num_stopwords = len(word_tokens) - len(result.split())\n",
        "num_non_stopwords=len(result.split())\n",
        "print(f\"There are {num_stopwords} stopwords in the given text.\")\n",
        "print(f\"There are {num_non_stopwords} non-stopwords in the given text.\")\n"
      ],
      "metadata": {
        "colab": {
          "base_uri": "https://localhost:8080/"
        },
        "id": "OuXksOmIvQ85",
        "outputId": "b28ee5f5-ac3d-4679-ed6a-cda4dbb9a1c7"
      },
      "execution_count": 26,
      "outputs": [
        {
          "output_type": "stream",
          "name": "stdout",
          "text": [
            "original string: There is a pen on the table\n",
            "modified string: pen table\n",
            "There are 5 stopwords in the given text.\n",
            "There are 2 non-stopwords in the given text.\n"
          ]
        }
      ]
    },
    {
      "cell_type": "code",
      "source": [
        "plt.bar(['Stopwords', 'Non-Stopwords'], [num_stopwords, num_non_stopwords])\n",
        "plt.xlabel('Word Type')\n",
        "plt.ylabel('Count')\n",
        "plt.title('Stopwords vs. Non-Stopwords')\n",
        "plt.show()"
      ],
      "metadata": {
        "colab": {
          "base_uri": "https://localhost:8080/",
          "height": 472
        },
        "id": "ewHyHgFJv_5I",
        "outputId": "36e73dba-b15d-47fa-b185-ea768ca0a751"
      },
      "execution_count": 27,
      "outputs": [
        {
          "output_type": "display_data",
          "data": {
            "text/plain": [
              "<Figure size 640x480 with 1 Axes>"
            ],
            "image/png": "[encoded data removed]"
          },
          "metadata": {}
        }
      ]
    }
  ]
}